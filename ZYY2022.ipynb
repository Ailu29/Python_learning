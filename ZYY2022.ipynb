{
 "cells": [
  {
   "attachments": {},
   "cell_type": "markdown",
   "id": "ef61ec4f-3f0e-4124-ac1e-9f20699714ce",
   "metadata": {},
   "source": [
    "# This an example calculating mass excess by Y. Y. Zong, et al. Phys. Rev. C 105, 034321 (2022)."
   ]
  },
  {
   "cell_type": "markdown",
   "id": "25b5165c-316d-49f8-8bcc-b89ea5494104",
   "metadata": {},
   "source": [
    "In case of 26P, it has 15 protons and 11 neutrons. The prediction result is 11127 keV.  \n",
    "Its mirror nucleus is 26Na, ME is -6861 keV.  \n",
    "So the result of Eq.23 should be 17988 keV. Here is the calculation process."
   ]
  },
  {
   "cell_type": "code",
   "execution_count": 1,
   "id": "cd8c1a42-9738-46cd-b89f-5708976e8d42",
   "metadata": {},
   "outputs": [],
   "source": [
    "import numpy as np"
   ]
  },
  {
   "cell_type": "markdown",
   "id": "bd889020-5823-4a63-9965-858c1977048b",
   "metadata": {},
   "source": [
    "Here are some constants defined in this article. Don't change them."
   ]
  },
  {
   "cell_type": "code",
   "execution_count": 2,
   "id": "a9db73b0-a90f-4b3a-aa1f-b046cd998825",
   "metadata": {},
   "outputs": [],
   "source": [
    "ac=720-20\n",
    "Enp=782+67 # from first row of Table.1\n",
    "beta= 1276 # do not use in Eq.23\n",
    "a=-0.024\n",
    "b=0.553\n",
    "c=0.872 "
   ]
  },
  {
   "cell_type": "markdown",
   "id": "9e798d18-0862-4fd5-ad3d-3782a458c77f",
   "metadata": {},
   "source": [
    "If someone want to calculate other proton-rich nuclei besides 26P, change the number below this cell. For 26P, we have"
   ]
  },
  {
   "cell_type": "code",
   "execution_count": 3,
   "id": "46aa0478-ebae-4ac1-8e88-6ba1c0178d1b",
   "metadata": {},
   "outputs": [],
   "source": [
    "A=26 # A\n",
    "K=15 # Z for proton rich nuclei\n",
    "k=4   # Z-N for proton rich nuclei\n",
    "kn=0  # this is the neutron number from proton dripline, with same proton number, described in article beyond Eq.24 \n",
    "kp=1  # this is the proton number from proton dripline, with same neutron number, described in article beyond Eq.24 \n",
    "epsilon=0 # because A=26>23, in case of A<=23, use epsilon=a*AA+b\n",
    "kk=(1-c)*kp # Eq.24"
   ]
  },
  {
   "cell_type": "markdown",
   "id": "5baacf24-c09d-475d-be4d-dbcee8ec4fcf",
   "metadata": {},
   "source": [
    "The result of two parameters used in Eq.23 is"
   ]
  },
  {
   "cell_type": "code",
   "execution_count": 4,
   "id": "866d41d5-6f2d-48fc-bebf-e17ad598e5ac",
   "metadata": {},
   "outputs": [],
   "source": [
    "dmc=pow(A,2/3) - 0.808 - pow(A,-1/3)\n",
    "dmmc=2*K-kk-epsilon-5/(4*kk)*pow(3/2/np.pi,2/3)*(pow(K,4/3)-pow(K-kk,4/3))+(1-epsilon)*(5/4*pow(3/2/np.pi,2/3)*pow(kk,1.3)-(5*K-3*kk)/2)+pow(K-kk,1/3)*pow(1-epsilon,3)*(5/4*pow(3/2/np.pi,2/3)+pow(K-kk,2/3)/2)"
   ]
  },
  {
   "cell_type": "markdown",
   "id": "73518a2d-199e-476a-8b2e-163ee659c3c6",
   "metadata": {},
   "source": [
    "So we finally have"
   ]
  },
  {
   "cell_type": "code",
   "execution_count": 5,
   "id": "513b1c94-18f8-4bc8-bbd1-3342089254f1",
   "metadata": {},
   "outputs": [
    {
     "data": {
      "text/plain": [
       "17987.767975256273"
      ]
     },
     "execution_count": 5,
     "metadata": {},
     "output_type": "execute_result"
    }
   ],
   "source": [
    "result=ac*(k*dmc-kk*dmmc/pow(A,1/3))-k*(Enp)\n",
    "result"
   ]
  },
  {
   "cell_type": "markdown",
   "id": "c45668e2-be1a-452b-ac7b-c78631985e22",
   "metadata": {},
   "source": [
    "Don't forget this is the mass difference between the proton-rich system and its neutron-rich mirror nucleus."
   ]
  },
  {
   "cell_type": "markdown",
   "id": "c03d399a-a983-4452-8f9f-20d6278c0ada",
   "metadata": {},
   "source": [
    "# Need to be Done: Error calculation"
   ]
  },
  {
   "cell_type": "code",
   "execution_count": null,
   "id": "3de7c04c-b2d5-43d6-b8ab-b1bf05134703",
   "metadata": {},
   "outputs": [],
   "source": []
  }
 ],
 "metadata": {
  "kernelspec": {
   "display_name": "Python 3 (ipykernel)",
   "language": "python",
   "name": "python3"
  },
  "language_info": {
   "codemirror_mode": {
    "name": "ipython",
    "version": 3
   },
   "file_extension": ".py",
   "mimetype": "text/x-python",
   "name": "python",
   "nbconvert_exporter": "python",
   "pygments_lexer": "ipython3",
   "version": "3.11.8"
  }
 },
 "nbformat": 4,
 "nbformat_minor": 5
}
